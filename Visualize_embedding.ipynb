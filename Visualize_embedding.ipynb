{
 "cells": [
  {
   "cell_type": "code",
   "execution_count": null,
   "metadata": {},
   "outputs": [],
   "source": [
    "from tensorflow.keras.models import load_model\n",
    "\n",
    "from generators import Singlet\n"
   ]
  },
  {
   "cell_type": "code",
   "execution_count": null,
   "metadata": {},
   "outputs": [],
   "source": [
    "base_model_history = pickle.load(open(C.base_model+\"_history\", \"rb\"))\n",
    "trained_model = load_model(model_path(\"trained_\"+C.base_model))\n",
    "datagen = Singlet(batch_size=1, directory=C.val_dir, steps_per_epoch=1000)"
   ]
  },
  {
   "cell_type": "code",
   "execution_count": null,
   "metadata": {},
   "outputs": [],
   "source": [
    "def plot_history(history):\n",
    "    plt.figure(figsize=(10, 5))\n",
    "    plt.subplot(1, 2, 1)\n",
    "    plt.plot(history.history['loss'], label='Training data loss')\n",
    "    plt.plot(history.history['val_loss'], label='Validation data loss')\n",
    "    plt.legend()\n",
    "    plt.title(\"Loss\")\n",
    "\n",
    "    plt.subplot(1, 2, 2)\n",
    "    plt.plot(history.history['acc'], label='Training data accuracy')\n",
    "    plt.plot(history.history['val_acc'], label='Validation data accuracy')\n",
    "    plt.legend()\n",
    "    plt.title(\"Accuracy\")\n",
    "    plt.suptitle(\"Model performance - {}\".format(C.base_model))\n",
    "    plt.show()\n",
    "plot_history(history)"
   ]
  },
  {
   "cell_type": "code",
   "execution_count": null,
   "metadata": {},
   "outputs": [],
   "source": [
    "def print_summary(model, val_generator):\n",
    "    score = model.evaluate_generator( val_generator, steps=C.base_validation_steps)\n",
    "    summary = \"Validation loss: {}\\nValidation accuracy: {}\".format(\n",
    "        score[0], score[1])\n",
    "    print(summary)\n",
    "print_summary(trained_model, datagen)"
   ]
  },
  {
   "cell_type": "code",
   "execution_count": null,
   "metadata": {},
   "outputs": [],
   "source": [
    "def plot_confusion_matrix(model, val_generator):\n",
    "    img_vals = []\n",
    "    stat_vals = []\n",
    "    y_vals = []\n",
    "    for i in range(C.base_validation_steps):\n",
    "        x, y = val_generator[i]\n",
    "        if len(x) == 2:\n",
    "            img_vals.append(x[0])\n",
    "            stat_vals.append(x[1])\n",
    "        else:\n",
    "            img_vals.append(x)\n",
    "        y_vals.append(y)\n",
    "    if stat_vals:\n",
    "        X_validation = [np.concatenate(img_vals), np.concatenate(stat_vals)]\n",
    "    else:\n",
    "        X_validation = [np.concatenate(img_vals)]\n",
    "    y_target = np.concatenate(y_vals)\n",
    "    y_predicted = np.argmax(model.predict(X_validation), axis=1)\n",
    "    cm = confusion_matrix(y_target, y_predicted)\n",
    "    for i in range(len(cm)):\n",
    "        cm[i, i] = 0\n",
    "\n",
    "    plt.figure(figsize=(15, 15))\n",
    "    plt.imshow(cm, cmap=\"Greys\")\n",
    "    plt.xticks(range(max(y_target+1)))\n",
    "    plt.yticks(range(max(y_target+1)))\n",
    "    plt.title(\"Confusion matrix\")\n",
    "    plt.xlabel(\"True label\")\n",
    "    plt.ylabel(\"Predicted label\")\n",
    "    plt.savefig(os.path.join(outputfolder, 'model_confusion_matrix.png'))\n",
    "    plt.show()\n",
    "\n",
    "plot_confusion_matrix(trained_model, datagen)"
   ]
  },
  {
   "cell_type": "code",
   "execution_count": null,
   "metadata": {},
   "outputs": [],
   "source": [
    "from create_siamese_model import initialize_bitvector_model\n",
    "from generators import Singlet"
   ]
  },
  {
   "cell_type": "code",
   "execution_count": null,
   "metadata": {},
   "outputs": [],
   "source": [
    "bitvector_model = initialize_bitvector_model()\n",
    "bitvector_history = pickle.load(open(\"siamese_\"+C.base_model+\"_history\", \"rb\"))"
   ]
  },
  {
   "cell_type": "code",
   "execution_count": null,
   "metadata": {},
   "outputs": [],
   "source": [
    "plt.figure(figsize=(10, 5))\n",
    "plt.subplot(1, 2, 1)\n",
    "plt.plot(bitvector_history['loss'], label='Training data loss')\n",
    "plt.legend()\n",
    "plt.title(\"Loss\")"
   ]
  },
  {
   "cell_type": "code",
   "execution_count": null,
   "metadata": {},
   "outputs": [],
   "source": [
    "imgs = []\n",
    "labels = []\n",
    "embeddings = []\n",
    "for i in range(500):\n",
    "    X, y = datagen[i]\n",
    "    imgs.append(X)\n",
    "    labels.append(y)\n",
    "    embeddings.append(bitvector_model.predict_on_batch(X))\n",
    "    \n",
    "X = np.dstack(embeddings)\n",
    "y = np.asarray(y)"
   ]
  },
  {
   "cell_type": "code",
   "execution_count": null,
   "metadata": {},
   "outputs": [],
   "source": [
    "from sklearn.manifold import TSNE\n",
    "tsne = TSNE(n_components=2, random_state=0)"
   ]
  },
  {
   "cell_type": "code",
   "execution_count": 6,
   "metadata": {},
   "outputs": [
    {
     "data": {
      "text/plain": [
       "((500, 64), (500,))"
      ]
     },
     "execution_count": 6,
     "metadata": {},
     "output_type": "execute_result"
    }
   ],
   "source": [
    "from sklearn import datasets\n",
    "digits = datasets.load_digits()\n",
    "# Take the first 500 data points: it's hard to see 1500 points\n",
    "X = digits.data[:500]\n",
    "y = digits.target[:500]\n",
    "X.shape, y.shape"
   ]
  },
  {
   "cell_type": "code",
   "execution_count": 2,
   "metadata": {},
   "outputs": [],
   "source": [
    "from sklearn.manifold import TSNE\n",
    "tsne = TSNE(n_components=2, random_state=0)\n"
   ]
  },
  {
   "cell_type": "code",
   "execution_count": 7,
   "metadata": {},
   "outputs": [],
   "source": [
    "X_2d = tsne.fit_transform(X)"
   ]
  },
  {
   "cell_type": "code",
   "execution_count": 9,
   "metadata": {},
   "outputs": [
    {
     "data": {
      "image/png": "[encoded data removed]",
      "text/plain": [
       "<Figure size 432x360 with 1 Axes>"
      ]
     },
     "metadata": {},
     "output_type": "display_data"
    }
   ],
   "source": [
    "from matplotlib import pyplot as plt\n",
    "\n",
    "cmap = plt.cm.get_cmap('hsv', 40)\n",
    "plt.figure(figsize=(6, 5))\n",
    "\n",
    "for i in range(40):\n",
    "    plt.scatter(X_2d[y == i, 0], X_2d[y == i, 1], c=c, label=label)\n",
    "plt.legend()\n",
    "plt.show()"
   ]
  },
  {
   "cell_type": "code",
   "execution_count": null,
   "metadata": {},
   "outputs": [],
   "source": []
  }
 ],
 "metadata": {
  "kernelspec": {
   "display_name": "Python 3",
   "language": "python",
   "name": "python3"
  },
  "language_info": {
   "codemirror_mode": {
    "name": "ipython",
    "version": 3
   },
   "file_extension": ".py",
   "mimetype": "text/x-python",
   "name": "python",
   "nbconvert_exporter": "python",
   "pygments_lexer": "ipython3",
   "version": "3.6.5"
  }
 },
 "nbformat": 4,
 "nbformat_minor": 2
}
